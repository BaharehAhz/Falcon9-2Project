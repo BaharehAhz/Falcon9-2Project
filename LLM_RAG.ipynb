{
  "nbformat": 4,
  "nbformat_minor": 0,
  "metadata": {
    "colab": {
      "provenance": [],
      "mount_file_id": "1ZBIR04qjSnhY0NFMD_U3dPQDNLYWQ44X",
      "authorship_tag": "ABX9TyOA+bB9YuPao9TXWt6r74i9",
      "include_colab_link": true
    },
    "kernelspec": {
      "name": "python3",
      "display_name": "Python 3"
    },
    "language_info": {
      "name": "python"
    }
  },
  "cells": [
    {
      "cell_type": "markdown",
      "metadata": {
        "id": "view-in-github",
        "colab_type": "text"
      },
      "source": [
        "<a href=\"https://colab.research.google.com/github/BaharehAhz/Falcon9-2Project/blob/main/LLM_RAG.ipynb\" target=\"_parent\"><img src=\"https://colab.research.google.com/assets/colab-badge.svg\" alt=\"Open In Colab\"/></a>"
      ]
    },
    {
      "cell_type": "code",
      "execution_count": null,
      "metadata": {
        "id": "YWanRkNvd4Pi"
      },
      "outputs": [],
      "source": []
    }
  ]
}